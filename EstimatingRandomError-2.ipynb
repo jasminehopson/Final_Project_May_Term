{
 "cells": [
  {
   "cell_type": "code",
   "execution_count": 10,
   "metadata": {},
   "outputs": [],
   "source": [
    "from math import *\n",
    "from random import random\n",
    "import matplotlib.pyplot as plt\n",
    "import numpy as np\n",
    "import pandas as pd"
   ]
  },
  {
   "cell_type": "markdown",
   "metadata": {},
   "source": [
    "Computing the Mean and Standard Error"
   ]
  },
  {
   "cell_type": "code",
   "execution_count": 11,
   "metadata": {},
   "outputs": [
    {
     "data": {
      "text/html": [
       "<div>\n",
       "<style scoped>\n",
       "    .dataframe tbody tr th:only-of-type {\n",
       "        vertical-align: middle;\n",
       "    }\n",
       "\n",
       "    .dataframe tbody tr th {\n",
       "        vertical-align: top;\n",
       "    }\n",
       "\n",
       "    .dataframe thead th {\n",
       "        text-align: right;\n",
       "    }\n",
       "</style>\n",
       "<table border=\"1\" class=\"dataframe\">\n",
       "  <thead>\n",
       "    <tr style=\"text-align: right;\">\n",
       "      <th></th>\n",
       "      <th>Data</th>\n",
       "    </tr>\n",
       "  </thead>\n",
       "  <tbody>\n",
       "    <tr>\n",
       "      <th>0</th>\n",
       "      <td>123.695</td>\n",
       "    </tr>\n",
       "    <tr>\n",
       "      <th>1</th>\n",
       "      <td>131.897</td>\n",
       "    </tr>\n",
       "    <tr>\n",
       "      <th>2</th>\n",
       "      <td>130.845</td>\n",
       "    </tr>\n",
       "    <tr>\n",
       "      <th>3</th>\n",
       "      <td>122.591</td>\n",
       "    </tr>\n",
       "    <tr>\n",
       "      <th>4</th>\n",
       "      <td>122.928</td>\n",
       "    </tr>\n",
       "  </tbody>\n",
       "</table>\n",
       "</div>"
      ],
      "text/plain": [
       "      Data\n",
       "0  123.695\n",
       "1  131.897\n",
       "2  130.845\n",
       "3  122.591\n",
       "4  122.928"
      ]
     },
     "execution_count": 11,
     "metadata": {},
     "output_type": "execute_result"
    }
   ],
   "source": [
    "df = pd.read_csv(r'/Users/mina/Downloads/data3.csv')\n",
    "df.head()"
   ]
  },
  {
   "cell_type": "code",
   "execution_count": 12,
   "metadata": {},
   "outputs": [
    {
     "name": "stdout",
     "output_type": "stream",
     "text": [
      "mean =  Data    129.016784\n",
      "dtype: float64\n"
     ]
    }
   ],
   "source": [
    "average = df.mean(axis = 0, skipna = True)\n",
    "print(\"mean = \", average) #uses data frame using panda package"
   ]
  },
  {
   "cell_type": "code",
   "execution_count": 13,
   "metadata": {},
   "outputs": [
    {
     "name": "stdout",
     "output_type": "stream",
     "text": [
      "Standard Deviation =  Data    3.92605\n",
      "dtype: float64\n",
      "standard error =  Data    0.645439\n",
      "dtype: float64\n"
     ]
    }
   ],
   "source": [
    "se = df.sem(axis = 0)\n",
    "sd = df.std(axis = 0)\n",
    "print(\"Standard Deviation = \", sd)\n",
    "print(\"standard error = \", se)"
   ]
  },
  {
   "cell_type": "markdown",
   "metadata": {},
   "source": [
    "Making the Graph of CDF"
   ]
  },
  {
   "cell_type": "code",
   "execution_count": 14,
   "metadata": {},
   "outputs": [
    {
     "data": {
      "image/png": "[encoded data removed]",
      "text/plain": [
       "<Figure size 432x288 with 1 Axes>"
      ]
     },
     "metadata": {
      "needs_background": "light"
     },
     "output_type": "display_data"
    }
   ],
   "source": [
    "df.hist(cumulative=True)\n",
    "plt.xlabel('Measurement Number')\n",
    "plt.ylabel('Measurement')\n",
    "plt.title('CDF')\n",
    "plt.grid()"
   ]
  },
  {
   "cell_type": "code",
   "execution_count": 15,
   "metadata": {},
   "outputs": [],
   "source": [
    "#second half getting data\n",
    "dataframe = [0] * (10)\n",
    "dataframe[0] = pd.read_csv(r'/Users/mina/Downloads/100.2.csv')\n",
    "dataframe[1] = pd.read_csv(r'/Users/mina/Downloads/200.2.csv')\n",
    "dataframe[2] = pd.read_csv(r'/Users/mina/Downloads/300.2.csv')\n",
    "dataframe[3] = pd.read_csv(r'/Users/mina/Downloads/400.2.csv')\n",
    "dataframe[4] = pd.read_csv(r'/Users/mina/Downloads/500.2.csv')\n",
    "dataframe[5] = pd.read_csv(r'/Users/mina/Downloads/600.2.csv')\n",
    "dataframe[6] = pd.read_csv(r'/Users/mina/Downloads/700.2.csv')\n",
    "dataframe[7] = pd.read_csv(r'/Users/mina/Downloads/800.2.csv')\n",
    "dataframe[8] = pd.read_csv(r'/Users/mina/Downloads/900.2.csv')\n",
    "dataframe[9] = pd.read_csv(r'/Users/mina/Downloads/1000.2.csv')"
   ]
  },
  {
   "cell_type": "code",
   "execution_count": 16,
   "metadata": {},
   "outputs": [],
   "source": [
    "#Creating the x axis\n",
    "x = [0] * (10)\n",
    "x[0] = 100\n",
    "i = 1\n",
    "while(i<10):\n",
    "    x[i] = x[i-1] + 100\n",
    "    i += 1"
   ]
  },
  {
   "cell_type": "code",
   "execution_count": 17,
   "metadata": {},
   "outputs": [],
   "source": [
    "#Creating the y axis\n",
    "SEList = [0] * (10)\n",
    "SEList[0] = dataframe[0].sem(axis = 0)\n",
    "SEList[1] = dataframe[1].sem(axis = 0)\n",
    "SEList[2] = dataframe[2].sem(axis = 0)\n",
    "SEList[3] = dataframe[3].sem(axis = 0)\n",
    "SEList[4] = dataframe[4].sem(axis = 0)\n",
    "SEList[5] = dataframe[5].sem(axis = 0)\n",
    "SEList[6] = dataframe[6].sem(axis = 0)\n",
    "SEList[7] = dataframe[7].sem(axis = 0)\n",
    "SEList[8] = dataframe[8].sem(axis = 0)\n",
    "SEList[9] = dataframe[9].sem(axis = 0)"
   ]
  },
  {
   "cell_type": "code",
   "execution_count": 18,
   "metadata": {},
   "outputs": [
    {
     "data": {
      "text/plain": [
       "Text(0.5, 1.0, 'Scatterplot for Standard Error')"
      ]
     },
     "execution_count": 18,
     "metadata": {},
     "output_type": "execute_result"
    },
    {
     "data": {
      "image/png": "[encoded data removed]",
      "text/plain": [
       "<Figure size 432x288 with 1 Axes>"
      ]
     },
     "metadata": {
      "needs_background": "light"
     },
     "output_type": "display_data"
    }
   ],
   "source": [
    "#Making the graph\n",
    "plt.plot(x, SEList, marker=\"o\", linestyle=\"None\")\n",
    "plt.grid()\n",
    "plt.xlabel('Measurement Number')\n",
    "plt.ylabel('Measurement')\n",
    "plt.title('Scatterplot for Standard Error')"
   ]
  },
  {
   "cell_type": "code",
   "execution_count": null,
   "metadata": {},
   "outputs": [],
   "source": []
  }
 ],
 "metadata": {
  "kernelspec": {
   "display_name": "Python 3",
   "language": "python",
   "name": "python3"
  },
  "language_info": {
   "codemirror_mode": {
    "name": "ipython",
    "version": 3
   },
   "file_extension": ".py",
   "mimetype": "text/x-python",
   "name": "python",
   "nbconvert_exporter": "python",
   "pygments_lexer": "ipython3",
   "version": "3.8.5"
  }
 },
 "nbformat": 4,
 "nbformat_minor": 4
}
